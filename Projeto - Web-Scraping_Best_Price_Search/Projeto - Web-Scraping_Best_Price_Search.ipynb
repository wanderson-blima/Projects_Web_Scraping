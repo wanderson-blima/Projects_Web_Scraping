{
 "cells": [
  {
   "cell_type": "markdown",
   "id": "24c8674f",
   "metadata": {},
   "source": [
    "## Projeto Automação Web - Busca do Melhor de Preço"
   ]
  },
  {
   "cell_type": "markdown",
   "id": "73ba8ab5",
   "metadata": {},
   "source": [
    "### DESCRIÇÃO\n",
    "- Utilizar a biblioteca Selenium para buscar analisar os preços de produtos especificos e retornar o melhor site para efetuarmos a compra com preço promocional. "
   ]
  },
  {
   "cell_type": "markdown",
   "id": "a9218d07",
   "metadata": {},
   "source": [
    "### ETAPAS DO PROCESSO\n",
    "- Importar a planilha com os links dos produtos\n",
    "- Percorrer a planilha\n",
    "\t- Para cada linha:\n",
    "\t\t- Pegar o preço do site Amazon\n",
    "\t\t- Pegar o preço do site Americanas\n",
    "\t\t- Pegar o preço do site Magazine Luiza\n",
    "\t\t- Registar o local do menor preço\n",
    "\t\t- Caso tenha +20% de desconto, eviar um e-mail de aviso\n",
    "- Salvar a planilha"
   ]
  },
  {
   "cell_type": "markdown",
   "id": "f589057d",
   "metadata": {},
   "source": [
    "### Passo 1 - Importar as bibliotecas"
   ]
  },
  {
   "cell_type": "code",
   "execution_count": 1,
   "id": "9795b4b2",
   "metadata": {},
   "outputs": [],
   "source": [
    "# Importar as bibliotecas necessárias:\n",
    "import pandas as pd\n",
    "from selenium import webdriver\n",
    "from selenium.webdriver.common.by import By\n",
    "import yagmail\n",
    "import win32com.client as win32\n",
    "from tqdm import tqdm"
   ]
  },
  {
   "cell_type": "markdown",
   "id": "bb44a8f2",
   "metadata": {},
   "source": [
    "### Passo 2 - Importar a base de dados com os produtos"
   ]
  },
  {
   "cell_type": "code",
   "execution_count": 2,
   "id": "dda54704",
   "metadata": {
    "scrolled": true
   },
   "outputs": [
    {
     "data": {
      "text/html": [
       "<div>\n",
       "<style scoped>\n",
       "    .dataframe tbody tr th:only-of-type {\n",
       "        vertical-align: middle;\n",
       "    }\n",
       "\n",
       "    .dataframe tbody tr th {\n",
       "        vertical-align: top;\n",
       "    }\n",
       "\n",
       "    .dataframe thead th {\n",
       "        text-align: right;\n",
       "    }\n",
       "</style>\n",
       "<table border=\"1\" class=\"dataframe\">\n",
       "  <thead>\n",
       "    <tr style=\"text-align: right;\">\n",
       "      <th></th>\n",
       "      <th>Unnamed: 0</th>\n",
       "      <th>Link Produto</th>\n",
       "      <th>Amazon</th>\n",
       "      <th>Lojas Americanas</th>\n",
       "      <th>Magazine Luiza</th>\n",
       "      <th>Preço Original</th>\n",
       "      <th>Preço Atual</th>\n",
       "      <th>Local</th>\n",
       "    </tr>\n",
       "  </thead>\n",
       "  <tbody>\n",
       "    <tr>\n",
       "      <th>0</th>\n",
       "      <td>0</td>\n",
       "      <td>iPhone 11 Apple 64GB Preto</td>\n",
       "      <td>https://www.amazon.com.br/Apple-MHDA3BR-A-iPho...</td>\n",
       "      <td>https://www.americanas.com.br/produto/16113159...</td>\n",
       "      <td>https://www.magazineluiza.com.br/iphone-11-app...</td>\n",
       "      <td>3419</td>\n",
       "      <td>3419</td>\n",
       "      <td>Original</td>\n",
       "    </tr>\n",
       "    <tr>\n",
       "      <th>1</th>\n",
       "      <td>1</td>\n",
       "      <td>Samsung Smart TV Crystal UHD 4K 43BU8000 2022</td>\n",
       "      <td>https://www.amazon.com.br/Samsung-Smart-Crysta...</td>\n",
       "      <td>https://www.americanas.com.br/produto/51401469...</td>\n",
       "      <td>https://www.magazineluiza.com.br/samsung-smart...</td>\n",
       "      <td>2900</td>\n",
       "      <td>2699</td>\n",
       "      <td>Amazon</td>\n",
       "    </tr>\n",
       "  </tbody>\n",
       "</table>\n",
       "</div>"
      ],
      "text/plain": [
       "   Unnamed: 0                                   Link Produto  \\\n",
       "0           0                     iPhone 11 Apple 64GB Preto   \n",
       "1           1  Samsung Smart TV Crystal UHD 4K 43BU8000 2022   \n",
       "\n",
       "                                              Amazon  \\\n",
       "0  https://www.amazon.com.br/Apple-MHDA3BR-A-iPho...   \n",
       "1  https://www.amazon.com.br/Samsung-Smart-Crysta...   \n",
       "\n",
       "                                    Lojas Americanas  \\\n",
       "0  https://www.americanas.com.br/produto/16113159...   \n",
       "1  https://www.americanas.com.br/produto/51401469...   \n",
       "\n",
       "                                      Magazine Luiza  Preço Original  \\\n",
       "0  https://www.magazineluiza.com.br/iphone-11-app...            3419   \n",
       "1  https://www.magazineluiza.com.br/samsung-smart...            2900   \n",
       "\n",
       "   Preço Atual     Local  \n",
       "0         3419  Original  \n",
       "1         2699    Amazon  "
      ]
     },
     "metadata": {},
     "output_type": "display_data"
    }
   ],
   "source": [
    "# Importando a base de dados:\n",
    "produtos = pd.read_excel(r'Produtos.xlsx')\n",
    "produtos = produtos.fillna('-')\n",
    "display(produtos)"
   ]
  },
  {
   "cell_type": "markdown",
   "id": "9dc0ec05",
   "metadata": {},
   "source": [
    "### Passo 3 - Definir uma função para tratar textos e transformá-los em números decimáis"
   ]
  },
  {
   "cell_type": "code",
   "execution_count": 3,
   "id": "0b223239",
   "metadata": {},
   "outputs": [],
   "source": [
    "def transformar_texto(texto):\n",
    "    return float(texto.replace('\\n', ',').replace('R$', '').replace('.', '').replace(',', '.'))"
   ]
  },
  {
   "cell_type": "markdown",
   "id": "2fc85444",
   "metadata": {},
   "source": [
    "### Passo 4 - Acessar os sites e armazenar os preços em variáveis"
   ]
  },
  {
   "cell_type": "code",
   "execution_count": 4,
   "id": "5fde5530",
   "metadata": {
    "scrolled": true
   },
   "outputs": [
    {
     "name": "stderr",
     "output_type": "stream",
     "text": [
      "2it [00:44, 22.13s/it]"
     ]
    },
    {
     "name": "stdout",
     "output_type": "stream",
     "text": [
      "Produtos análisados\n"
     ]
    },
    {
     "name": "stderr",
     "output_type": "stream",
     "text": [
      "\n"
     ]
    }
   ],
   "source": [
    "# Abrindo o navegador de forma \"escondida\":\n",
    "driver = webdriver.Chrome()\n",
    "driver.set_window_position(-10000,0)\n",
    "\n",
    "# Definindo variavel com desconto mínimo que quer ser avisado por e-mail: \n",
    "desconto_min = 0.2\n",
    "\n",
    "# Criando um loop que irá acessar os sites e análisar os preços:\n",
    "enviar_email = False\n",
    "for i, linha in tqdm(produtos.iterrows()):\n",
    "    # Entrar no site da amazon e armazenar o preço em uma variável:\n",
    "    driver.get(linha['Amazon'])\n",
    "    try:\n",
    "        preco_amazon = driver.find_element(By.ID, \"corePrice_feature_div\").text\n",
    "        preco_amazon = transformar_texto(preco_amazon)\n",
    "    except:\n",
    "        print('Produto {} não disponível na Amazon'.format(linha['Link Produto']))\n",
    "        preco_amazon = linha['Preço Original'] * 3\n",
    "    \n",
    "    # Entrar no site da americanas e armazenar o preço em uma variável:\n",
    "    driver.get(linha['Lojas Americanas'])\n",
    "    try:\n",
    "        preco_americanas = driver.find_element(By.CLASS_NAME, 'styles__PriceText-sc-x06r9i-0').text\n",
    "        preco_americanas = transformar_texto(preco_americanas)\n",
    "    except:\n",
    "        print('Produto {} não disponível na Lojas Americanas'.format(linha['Link Produto']))\n",
    "        preco_americanas = linha['Preço Original'] * 3\n",
    "    \n",
    "    # Entrar no site da magazine luiza e armazenar o preço em uma variável:\n",
    "    driver.get(linha['Magazine Luiza'])\n",
    "    try:\n",
    "        preco_magazineluiza = driver.find_element(By.CLASS_NAME, 'sc-kDTinF.zuoFI.sc-dcgwPl.bvdLco').text\n",
    "        preco_magazineluiza = transformar_texto(preco_magazineluiza)\n",
    "    except:\n",
    "        print('Produto {} não disponível na Magazine Luiza'.format(linha['Link Produto']))\n",
    "        preco_magazineluiza = linha['Preço Original'] * 3\n",
    "    \n",
    "    \n",
    "    driver.close()\n",
    "    driver = webdriver.Chrome()\n",
    "    \n",
    "    preco_original = linha['Preço Original']\n",
    "    \n",
    "    lista_precos = [(preco_amazon, 'Amazon'), (preco_americanas, 'Lojas Americanas'), (preco_magazineluiza, 'Magazine Luiza'), (preco_original, 'Original')]\n",
    "    \n",
    "    lista_precos.sort()\n",
    "    \n",
    "    produtos.loc[i, 'Preço Atual'] = lista_precos[0][0]\n",
    "    produtos.loc[i, 'Local'] = lista_precos[0][1] \n",
    "    \n",
    "    if lista_precos[0][0] <= preco_original*(1-desconto_min):\n",
    "        enviar_email = True  \n",
    "\n",
    "driver.close()\n",
    "print('Produtos análisados')"
   ]
  },
  {
   "cell_type": "markdown",
   "id": "b756c0a9",
   "metadata": {},
   "source": [
    "### Parte 5 - Salvar o arquivo atualizado e enviar o e-mail caso atenda ao críterio de desconto mínimo"
   ]
  },
  {
   "cell_type": "code",
   "execution_count": 5,
   "id": "f6b0d8df",
   "metadata": {
    "scrolled": true
   },
   "outputs": [
    {
     "name": "stdout",
     "output_type": "stream",
     "text": [
      "E-mail enviado.\n"
     ]
    }
   ],
   "source": [
    "# Salvar o arquivo\n",
    "produtos.to_excel('Produtos.xlsx')\n",
    "\n",
    "# Filtrar tabela de produtos\n",
    "tabela_filtrada = produtos.loc[produtos['Preço Atual'] <= produtos['Preço Original']*(1-desconto_min), :]\n",
    "\n",
    "# Enviar e-mail:\n",
    "## Definindo variáveis para envio de e-mail automatizado: \n",
    "email_destinatario = 'digite o e-mail do destinatario aqui'\n",
    "email_destinatario_name = 'digite o nome do destinatario aqui'\n",
    "email_subject = f'Produto(s) encontrado(s) com mais de {desconto_min:.0%} de desconto!'\n",
    "email_bory = f'<p>Esses são os produtos com mais de {desconto_min:.0%} de desconto</p>{tabela_filtrada.to_html()}'\n",
    "\n",
    "# Enviar e-mail\n",
    "\n",
    "if enviar_email:\n",
    "#     ################# Enviando com GMAIL #################\n",
    "#     # Definindo as credenciais de acesso(\"usuário\" e \"senha app\") ao gmail: \n",
    "#     usuario = yagmail.SMTP(user='digite seu email aqui', password='digite sua Senha APP aqui')\n",
    "\n",
    "#     # Enviando o e-mail:\n",
    "#     usuario.send(to=email_destinatario,\n",
    "#                  subject=email_subject,\n",
    "#                  contents=email_bory)\n",
    "\n",
    "    ################# Enviando com Outlook #################\n",
    "    # Definindo as variaveis do outlook:\n",
    "    outlook = win32.Dispatch('outlook.application')\n",
    "    mail = outlook.CreateItem(0)\n",
    "    nome = email_destinatario_name\n",
    "    mail.To = email_destinatario\n",
    "    mail.Subject = email_subject\n",
    "    mail.HTMLBody = email_bory\n",
    "\n",
    "    # Enviando o e-mail: \n",
    "    mail.Send()\n",
    "\n",
    "print('E-mail enviado.')"
   ]
  }
 ],
 "metadata": {
  "kernelspec": {
   "display_name": "Python 3 (ipykernel)",
   "language": "python",
   "name": "python3"
  },
  "language_info": {
   "codemirror_mode": {
    "name": "ipython",
    "version": 3
   },
   "file_extension": ".py",
   "mimetype": "text/x-python",
   "name": "python",
   "nbconvert_exporter": "python",
   "pygments_lexer": "ipython3",
   "version": "3.9.12"
  }
 },
 "nbformat": 4,
 "nbformat_minor": 5
}
